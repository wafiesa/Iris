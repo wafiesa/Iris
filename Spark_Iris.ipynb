{
  "nbformat": 4,
  "nbformat_minor": 0,
  "metadata": {
    "colab": {
      "provenance": [],
      "mount_file_id": "1C5g4ZPfYQ7WMnyGyJo3O7_D3BtgruCfH",
      "authorship_tag": "ABX9TyNjjR4yJ/yo0thGdQavvopi",
      "include_colab_link": true
    },
    "kernelspec": {
      "name": "python3",
      "display_name": "Python 3"
    },
    "language_info": {
      "name": "python"
    }
  },
  "cells": [
    {
      "cell_type": "markdown",
      "metadata": {
        "id": "view-in-github",
        "colab_type": "text"
      },
      "source": [
        "<a href=\"https://colab.research.google.com/github/wafiesa/Iris/blob/main/Spark_Iris.ipynb\" target=\"_parent\"><img src=\"https://colab.research.google.com/assets/colab-badge.svg\" alt=\"Open In Colab\"/></a>"
      ]
    },
    {
      "cell_type": "code",
      "execution_count": 1,
      "metadata": {
        "colab": {
          "base_uri": "https://localhost:8080/"
        },
        "id": "k-bOySSbi4kM",
        "outputId": "d1405c39-987b-4f65-f655-523dc4990e59"
      },
      "outputs": [
        {
          "output_type": "stream",
          "name": "stdout",
          "text": [
            "Drive already mounted at /content/drive; to attempt to forcibly remount, call drive.mount(\"/content/drive\", force_remount=True).\n"
          ]
        }
      ],
      "source": [
        "from google.colab import drive\n",
        "drive.mount('/content/drive')"
      ]
    },
    {
      "cell_type": "code",
      "source": [
        "import pandas as pd\n",
        "import numpy as np\n",
        "from sklearn.model_selection import train_test_split, GridSearchCV\n",
        "from sklearn.ensemble import RandomForestClassifier\n",
        "from sklearn import metrics\n",
        "import seaborn as sns\n",
        "import matplotlib.pyplot as plt\n",
        "\n",
        "# Load the iris dataset\n",
        "iris = pd.read_csv(\"/content/drive/MyDrive/Colab_Notebooks/Spark_Iris/iris.csv\")\n",
        "\n",
        "# Convert the Spark DataFrame to a pandas DataFrame\n",
        "iris_df = iris\n",
        "\n",
        "# Print top 10 rows\n",
        "print(\"Top 10 rows of iris:\")\n",
        "iris_df.head(10)\n",
        "\n",
        "# Convert the Species column to a numerical format\n",
        "iris_df['Species'] = pd.factorize(iris_df['Species'])[0]\n",
        "\n",
        "# Split features and target variable\n",
        "X = iris_df.drop(['Species'], axis=1)\n",
        "y = iris_df['Species']\n",
        "\n",
        "# Split the dataset into training and testing sets\n",
        "X_train, X_test, y_train, y_test = train_test_split(X, y, train_size=0.8, random_state=1)\n",
        "\n",
        "# Create a Random Forest classifier\n",
        "RFC = RandomForestClassifier()\n",
        "\n",
        "# Define the hyperparameter grid\n",
        "param_grid = {\n",
        "    'n_estimators': [10, 50, 100, 200],\n",
        "    'max_depth': [None, 5, 10, 15],\n",
        "    'min_samples_split': [2, 5, 10],\n",
        "    'min_samples_leaf': [1, 2, 4],\n",
        "    'bootstrap': [True, False]\n",
        "}\n",
        "\n",
        "# Perform grid search with cross-validation\n",
        "grid_search = GridSearchCV(RFC, param_grid, cv=5, scoring='accuracy')\n",
        "grid_search.fit(X_train, y_train)\n",
        "\n",
        "# Print the best hyperparameters and the corresponding accuracy\n",
        "print(\"Best Hyperparameters:\", grid_search.best_params_)\n",
        "print(\"Best Accuracy:\", grid_search.best_score_)\n",
        "\n",
        "# Make predictions with the best estimator\n",
        "best_estimator = grid_search.best_estimator_\n",
        "y_pred = best_estimator.predict(X_test)\n",
        "\n",
        "# Evaluate the performance of the model using various metrics\n",
        "accuracy = metrics.accuracy_score(y_test, y_pred)\n",
        "precision = metrics.precision_score(y_test, y_pred, average='weighted')\n",
        "recall = metrics.recall_score(y_test, y_pred, average='weighted')\n",
        "f1_score = metrics.f1_score(y_test, y_pred, average='weighted')\n",
        "\n",
        "print(\"Accuracy of the model:\", accuracy)\n",
        "print(\"Precision of the model:\", precision)\n",
        "print(\"Recall of the model:\", recall)\n",
        "print(\"F1-score of the model:\", f1_score)\n",
        "\n",
        "# Print the confusion matrix\n",
        "conf_matrix = metrics.confusion_matrix(y_test, y_pred)\n",
        "print(\"Confusion Matrix:\\n\", conf_matrix)\n",
        "\n",
        "# Transform to df for easier plotting\n",
        "cm_df = pd.DataFrame(conf_matrix,\n",
        "                     index = ['setosa','versicolor','virginica'],\n",
        "                     columns = ['setosa','versicolor','virginica'])\n",
        "\n",
        "\n",
        "# Plot the confusion matrix as a heatmap\n",
        "plt.figure(figsize=(10, 7))\n",
        "sns.heatmap(cm_df, annot=True, fmt='d', cmap='Blues')\n",
        "plt.xlabel('Predicted Label')\n",
        "plt.ylabel('True Label')\n",
        "plt.title('Confusion Matrix')\n",
        "plt.show()\n"
      ],
      "metadata": {
        "colab": {
          "base_uri": "https://localhost:8080/",
          "height": 1000
        },
        "id": "F2DqScdpjDVB",
        "outputId": "d4864568-73e3-44ba-b940-b24c8cbb46d7"
      },
      "execution_count": 30,
      "outputs": [
        {
          "output_type": "stream",
          "name": "stdout",
          "text": [
            "Top 10 rows of iris:\n",
            "Best Hyperparameters: {'bootstrap': True, 'max_depth': None, 'min_samples_leaf': 4, 'min_samples_split': 5, 'n_estimators': 10}\n",
            "Best Accuracy: 0.975\n",
            "Accuracy of the model: 0.9666666666666667\n",
            "Precision of the model: 0.9714285714285714\n",
            "Recall of the model: 0.9666666666666667\n",
            "F1-score of the model: 0.9672820512820512\n",
            "Classification Report:\n",
            "               precision    recall  f1-score   support\n",
            "\n",
            "           0       1.00      1.00      1.00        11\n",
            "           1       1.00      0.92      0.96        13\n",
            "           2       0.86      1.00      0.92         6\n",
            "\n",
            "    accuracy                           0.97        30\n",
            "   macro avg       0.95      0.97      0.96        30\n",
            "weighted avg       0.97      0.97      0.97        30\n",
            "\n",
            "Confusion Matrix:\n",
            " [[11  0  0]\n",
            " [ 0 12  1]\n",
            " [ 0  0  6]]\n"
          ]
        },
        {
          "output_type": "display_data",
          "data": {
            "text/plain": [
              "<Figure size 1000x700 with 2 Axes>"
            ],
            "image/png": "[encoded data removed]"
          },
          "metadata": {}
        }
      ]
    }
  ]
}